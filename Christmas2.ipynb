{
 "cells": [
  {
   "cell_type": "code",
   "execution_count": 1,
   "metadata": {},
   "outputs": [],
   "source": [
    "import numpy as np \n",
    "import pandas as pd\n",
    "import random\n",
    "import glob\n",
    "import ipywidgets as widgets\n",
    "pd.options.display.max_rows = 999\n",
    "from PIL import Image"
   ]
  },
  {
   "cell_type": "code",
   "execution_count": 2,
   "metadata": {},
   "outputs": [],
   "source": [
    "df = pd.read_excel(\"Outputs.xlsx\").set_index(\"FileName\")"
   ]
  },
  {
   "cell_type": "code",
   "execution_count": 3,
   "metadata": {},
   "outputs": [],
   "source": [
    "jpegfiles = []\n",
    "for file in glob.glob(\"Favorites/*.jpeg\"):\n",
    "    jpegfiles.append(file)\n",
    "    \n",
    "jpegfiles.sort()\n",
    "\n",
    "uniques = np.concatenate((df['PersonA'].unique(), df['PersonB'].unique(), df['PersonC'].unique(), df['PersonD'].unique()))\n",
    "df4 = pd.DataFrame(uniques)\n",
    "Uni = df4[0].unique()\n",
    "\n",
    "Uni = Uni.tolist()\n",
    "while (np.nan in Uni):\n",
    "    Uni.remove(np.nan)"
   ]
  },
  {
   "cell_type": "code",
   "execution_count": 4,
   "metadata": {},
   "outputs": [
    {
     "data": {
      "application/vnd.jupyter.widget-view+json": {
       "model_id": "64c6a2d8da8e4ea4afe717eb5473f6f8",
       "version_major": 2,
       "version_minor": 0
      },
      "text/plain": [
       "Tab(children=(Combobox(value='', description='Person 1:', ensure_option=True, options=('Cy', 'Gabi', 'Dad', 'M…"
      ]
     },
     "metadata": {},
     "output_type": "display_data"
    }
   ],
   "source": [
    "Person1 = widgets.Combobox(\n",
    "    # value='John',\n",
    "    placeholder='Choose Someone',\n",
    "    options=Uni,\n",
    "    description='Person 1:',\n",
    "    ensure_option=True,\n",
    "    disabled=False\n",
    ")\n",
    "\n",
    "Person2 = widgets.Combobox(\n",
    "    # value='John',\n",
    "    placeholder='Choose Someone',\n",
    "    options=Uni,\n",
    "    description='Person 2:',\n",
    "    ensure_option=True,\n",
    "    disabled=False\n",
    ")\n",
    "\n",
    "Person3 = widgets.Combobox(\n",
    "    # value='John',\n",
    "    placeholder='Choose Someone',\n",
    "    options=Uni,\n",
    "    description='Person 3:',\n",
    "    ensure_option=True,\n",
    "    disabled=False\n",
    ")\n",
    "\n",
    "Person4 = widgets.Combobox(\n",
    "    # value='John',\n",
    "    placeholder='Choose Someone',\n",
    "    options=Uni,\n",
    "    description='Person 4:',\n",
    "    ensure_option=True,\n",
    "    disabled=False\n",
    ")\n",
    "\n",
    "\n",
    "\n",
    "toggle2 = widgets.ToggleButton(description='Next Photo!')\n",
    "out = widgets.Output(layout=widgets.Layout(border = '1px solid black'))\n",
    "\n",
    "def fun(obj):\n",
    "    with out:\n",
    "        if obj['new']:  \n",
    "            fits = []\n",
    "\n",
    "            req = [Person1.value, Person2.value, Person3.value, Person4.value]\n",
    "            while (\"\" in req):\n",
    "                req.remove(\"\")\n",
    "\n",
    "\n",
    "            if (len(req)>0):\n",
    "                for file in jpegfiles:\n",
    "                    if all(elem in df.loc[file].values.tolist() for elem in req):\n",
    "                        fits.append(file)\n",
    "            else:\n",
    "                fits = jpegfiles\n",
    "            Person1.value = \"\"\n",
    "            Person2.value = \"\"\n",
    "            Person3.value = \"\"\n",
    "            Person4.value = \"\"\n",
    "            im2 = Image.open(random.choice(fits))\n",
    "            im2.show()\n",
    "            \n",
    "        else:\n",
    "            out.clear_Output()\n",
    "            print(\"Resetting\")\n",
    "\n",
    "toggle2.observe(fun, 'value')\n",
    "\n",
    "\n",
    "children = [Person1, Person2, Person3, Person4, toggle2]\n",
    "tab = widgets.Tab()\n",
    "tab.children = children\n",
    "tab\n",
    "\n",
    "#accordion = widgets.Accordion(children=[tab, ImageDisplayer], titles=('Hello', 'Text'))"
   ]
  },
  {
   "cell_type": "code",
   "execution_count": null,
   "metadata": {},
   "outputs": [],
   "source": []
  }
 ],
 "metadata": {
  "kernelspec": {
   "display_name": "Python 3",
   "language": "python",
   "name": "python3"
  },
  "language_info": {
   "codemirror_mode": {
    "name": "ipython",
    "version": 3
   },
   "file_extension": ".py",
   "mimetype": "text/x-python",
   "name": "python",
   "nbconvert_exporter": "python",
   "pygments_lexer": "ipython3",
   "version": "3.8.3"
  }
 },
 "nbformat": 4,
 "nbformat_minor": 4
}
