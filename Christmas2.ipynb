{
 "cells": [
  {
   "cell_type": "code",
   "execution_count": 1,
   "metadata": {},
   "outputs": [],
   "source": [
    "import numpy as np \n",
    "import pandas as pd\n",
    "import random\n",
    "import glob\n",
    "import ipywidgets as widgets\n",
    "pd.options.display.max_rows = 999\n",
    "from PIL import Image"
   ]
  },
  {
   "cell_type": "code",
   "execution_count": 2,
   "metadata": {},
   "outputs": [],
   "source": [
    "df = pd.read_excel(\"Outputs.xlsx\").set_index(\"FileName\")"
   ]
  },
  {
   "cell_type": "code",
   "execution_count": 3,
   "metadata": {},
   "outputs": [],
   "source": [
    "jpegfiles = []\n",
    "for file in glob.glob(\"Favorites/*.jpeg\"):\n",
    "    jpegfiles.append(file)\n",
    "    \n",
    "jpegfiles.sort()\n",
    "\n",
    "uniques = np.concatenate((df['PersonA'].unique(), df['PersonB'].unique(), df['PersonC'].unique(), df['PersonD'].unique()))\n",
    "df4 = pd.DataFrame(uniques)\n",
    "Uni = df4[0].unique()\n",
    "\n",
    "Uni = Uni.tolist()\n",
    "while (np.nan in Uni):\n",
    "    Uni.remove(np.nan)"
   ]
  },
  {
   "cell_type": "code",
   "execution_count": 6,
   "metadata": {},
   "outputs": [
    {
     "data": {
      "application/vnd.jupyter.widget-view+json": {
       "model_id": "da37964f9e244aef8d17b0672bfbaadc",
       "version_major": 2,
       "version_minor": 0
      },
      "text/plain": [
       "Tab(children=(Combobox(value='', description='Person 1:', ensure_option=True, options=('Cy', 'Gabi', 'Dad', 'M…"
      ]
     },
     "metadata": {},
     "output_type": "display_data"
    }
   ],
   "source": [
    "Person1 = widgets.Combobox(\n",
    "    # value='John',\n",
    "    placeholder='Choose Someone',\n",
    "    options=Uni,\n",
    "    description='Person 1:',\n",
    "    ensure_option=True,\n",
    "    disabled=False\n",
    ")\n",
    "\n",
    "Person2 = widgets.Combobox(\n",
    "    # value='John',\n",
    "    placeholder='Choose Someone',\n",
    "    options=Uni,\n",
    "    description='Person 2:',\n",
    "    ensure_option=True,\n",
    "    disabled=False\n",
    ")\n",
    "\n",
    "Person3 = widgets.Combobox(\n",
    "    # value='John',\n",
    "    placeholder='Choose Someone',\n",
    "    options=Uni,\n",
    "    description='Person 3:',\n",
    "    ensure_option=True,\n",
    "    disabled=False\n",
    ")\n",
    "\n",
    "Person4 = widgets.Combobox(\n",
    "    # value='John',\n",
    "    placeholder='Choose Someone',\n",
    "    options=Uni,\n",
    "    description='Person 4:',\n",
    "    ensure_option=True,\n",
    "    disabled=False\n",
    ")\n",
    "\n",
    "\n",
    "file = open(jpegfiles[0], \"rb\")\n",
    "image = file.read()\n",
    "ImageDisplay = widgets.Image(\n",
    "    value=image,\n",
    "    format='png',\n",
    "    width=300,\n",
    "    height=400,\n",
    ")\n",
    "\n",
    "toggle = widgets.ToggleButton(description='click me')\n",
    "Img = widgets.Output()\n",
    "\n",
    "out_box = widgets.HBox([toggle, Img])\n",
    "\n",
    "def fun(obj):\n",
    "    with Img:\n",
    "        global file\n",
    "        if obj['new']:  \n",
    "            fits = []\n",
    "\n",
    "            req = [Person1.value, Person2.value, Person3.value, Person4.value]\n",
    "            while (\"\" in req):\n",
    "                req.remove(\"\")\n",
    "\n",
    "\n",
    "            if (len(req)>0):\n",
    "                for file in jpegfiles:\n",
    "                    if all(elem in df.loc[file].values.tolist() for elem in req):\n",
    "                        fits.append(file)\n",
    "                ImageDisplay.value = open(random.choice(fits), \"rb\").read()\n",
    "                display(ImageDisplay)\n",
    "\n",
    "            else:\n",
    "                fits = jpegfiles\n",
    "                Person1.value = \"\"\n",
    "                Person2.value = \"\"\n",
    "                Person3.value = \"\"\n",
    "                Person4.value = \"\"\n",
    "                ImageDisplay.value = open(random.choice(fits), \"rb\").read()\n",
    "                display(ImageDisplay)\n",
    "\n",
    "            \n",
    "        else:\n",
    "            print(\"Resetting\")\n",
    "            Img.clear_output()\n",
    "\n",
    "\n",
    "toggle.observe(fun, 'value')\n",
    "\n",
    "children = [Person1, Person2, Person3, Person4, out_box]\n",
    "tab = widgets.Tab()\n",
    "tab.children = children\n",
    "tab\n",
    "\n"
   ]
  },
  {
   "cell_type": "code",
   "execution_count": null,
   "metadata": {},
   "outputs": [],
   "source": []
  }
 ],
 "metadata": {
  "kernelspec": {
   "display_name": "Python 3",
   "language": "python",
   "name": "python3"
  },
  "language_info": {
   "codemirror_mode": {
    "name": "ipython",
    "version": 3
   },
   "file_extension": ".py",
   "mimetype": "text/x-python",
   "name": "python",
   "nbconvert_exporter": "python",
   "pygments_lexer": "ipython3",
   "version": "3.8.3"
  }
 },
 "nbformat": 4,
 "nbformat_minor": 4
}
