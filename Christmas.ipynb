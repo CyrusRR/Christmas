{
 "cells": [
  {
   "cell_type": "code",
   "execution_count": 6,
   "metadata": {},
   "outputs": [],
   "source": [
    "import numpy as np \n",
    "import pandas as pd\n",
    "import random\n",
    "import glob\n",
    "import ipywidgets as widgets\n",
    "pd.options.display.max_rows = 999\n",
    "from PIL import Image"
   ]
  },
  {
   "cell_type": "code",
   "execution_count": 75,
   "metadata": {},
   "outputs": [],
   "source": [
    "i =0\n",
    "jpegfiles = []\n",
    "for file in glob.glob(\"Favorites/*.jpeg\"):\n",
    "    jpegfiles.append(file)\n",
    "    \n",
    "jpegfiles.sort()\n",
    "    \n",
    "df = pd.DataFrame(jpegfiles, columns=[\"FileName\"])\n",
    "df[\"PersonA\"] = \"N/A\"\n",
    "df[\"PersonB\"] = \"N/A\"\n",
    "df[\"PersonC\"] = \"N/A\"\n",
    "df[\"PersonD\"] = \"N/A\"\n",
    "df = df.set_index(\"FileName\")\n",
    "df.loc[\"Favorites/1 (10).jpeg\"].PersonA = \"Cyrus\"\n"
   ]
  },
  {
   "cell_type": "code",
   "execution_count": 77,
   "metadata": {},
   "outputs": [
    {
     "data": {
      "application/vnd.jupyter.widget-view+json": {
       "model_id": "a6066361ee524845aae505a0f24a085a",
       "version_major": 2,
       "version_minor": 0
      },
      "text/plain": [
       "HBox(children=(VBox(children=(Text(value='', description='Person 1:', placeholder='Type something'), Text(valu…"
      ]
     },
     "metadata": {},
     "output_type": "display_data"
    }
   ],
   "source": [
    "Image_Output = widgets.Output()\n",
    "\n",
    "Text1 =widgets.Text(\n",
    "    placeholder='Type something',\n",
    "    description='Person 1:',\n",
    "    disabled=False\n",
    ")\n",
    "Text2 =widgets.Text(\n",
    "    placeholder='Type something',\n",
    "    description='Person 2:',\n",
    "    disabled=False\n",
    ")\n",
    "Text3 =widgets.Text(\n",
    "    placeholder='Type something',\n",
    "    description='Person 3:',\n",
    "    disabled=False\n",
    ")\n",
    "Text4 =widgets.Text(\n",
    "    placeholder='Type something',\n",
    "    description='Person 4:',\n",
    "    disabled=False\n",
    ")\n",
    "\n",
    "\n",
    "\n",
    "toggle = widgets.ToggleButton(description='Next Photo!')\n",
    "\n",
    "CheckAverage = widgets.Checkbox(description = \"Finished Entering Info\", value = True)\n",
    "\n",
    "left_box = widgets.VBox([Text1, Text2, Text3, Text4, toggle])\n",
    "\n",
    "side_box = widgets.HBox([left_box,Image_Output])\n",
    "\n",
    "file = open(df.index.values[i], \"rb\")\n",
    "image = file.read()\n",
    "ImageDisplayer = widgets.Image(\n",
    "    value=image,\n",
    "    format='png',\n",
    "    width=300,\n",
    "    height=400,\n",
    ")\n",
    "def common_filtering(check):\n",
    "    global i\n",
    "    with Image_Output:\n",
    "        if check == True: \n",
    "            im = Image.open(df.index.values[i])\n",
    "            im.show()\n",
    "        else:\n",
    "            i = i+1\n",
    "            if (Text1.value!= \"\"):\n",
    "                df.iloc[i].PersonA = Text1.value\n",
    "            if (Text2.value!= \"\"):\n",
    "                df.iloc[i].PersonB = Text2.value\n",
    "            if (Text3.value!= \"\"):\n",
    "                df.iloc[i].PersonC = Text3.value\n",
    "            if (Text4.value!= \"\"):\n",
    "                df.iloc[i].PersonD = Text4.value\n",
    "            Image_Output.clear_output()\n",
    " \n",
    "            Text1.value = \"\"\n",
    "            Text2.value = \"\"\n",
    "            Text3.value = \"\"\n",
    "            Text4.value = \"\"\n",
    "\n",
    "\n",
    "\n",
    "def Check_eventhandler(change):\n",
    "    common_filtering(change.new)\n",
    "      \n",
    "CheckAverage.observe(Check_eventhandler, names ='value')\n",
    "toggle.observe(Check_eventhandler, names ='value')\n",
    "\n",
    "display(side_box)"
   ]
  },
  {
   "cell_type": "code",
   "execution_count": 78,
   "metadata": {},
   "outputs": [],
   "source": [
    "df2 = pd.read_excel(\"output.xlsx\").set_index(\"FileName\")"
   ]
  },
  {
   "cell_type": "code",
   "execution_count": 79,
   "metadata": {},
   "outputs": [],
   "source": [
    "uniques = np.concatenate((df2['PersonA'].unique(), df2['PersonB'].unique(), df2['PersonC'].unique(), df2['PersonD'].unique()))\n",
    "df4 = pd.DataFrame(uniques)\n",
    "Uni = df4[0].unique()\n",
    "\n",
    "Uni = Uni.tolist()\n",
    "Uni.remove(np.nan)"
   ]
  },
  {
   "cell_type": "code",
   "execution_count": 73,
   "metadata": {
    "scrolled": false
   },
   "outputs": [
    {
     "data": {
      "application/vnd.jupyter.widget-view+json": {
       "model_id": "a8cd7963fad6423f8286a5f9ecaa1033",
       "version_major": 2,
       "version_minor": 0
      },
      "text/plain": [
       "Tab(children=(Combobox(value='', description='Person 1:', ensure_option=True, options=('Cyrus', 'Gabi', 'Joe',…"
      ]
     },
     "metadata": {},
     "output_type": "display_data"
    }
   ],
   "source": [
    "Person1 = widgets.Combobox(\n",
    "    # value='John',\n",
    "    placeholder='Choose Someone',\n",
    "    options=Uni,\n",
    "    description='Person 1:',\n",
    "    ensure_option=True,\n",
    "    disabled=False\n",
    ")\n",
    "\n",
    "Person2 = widgets.Combobox(\n",
    "    # value='John',\n",
    "    placeholder='Choose Someone',\n",
    "    options=Uni,\n",
    "    description='Person 2:',\n",
    "    ensure_option=True,\n",
    "    disabled=False\n",
    ")\n",
    "\n",
    "Person3 = widgets.Combobox(\n",
    "    # value='John',\n",
    "    placeholder='Choose Someone',\n",
    "    options=Uni,\n",
    "    description='Person 3:',\n",
    "    ensure_option=True,\n",
    "    disabled=False\n",
    ")\n",
    "\n",
    "Person4 = widgets.Combobox(\n",
    "    # value='John',\n",
    "    placeholder='Choose Someone',\n",
    "    options=Uni,\n",
    "    description='Person 4:',\n",
    "    ensure_option=True,\n",
    "    disabled=False\n",
    ")\n",
    "\n",
    "\n",
    "\n",
    "toggle2 = widgets.ToggleButton(description='Next Photo!')\n",
    "out = widgets.Output(layout=widgets.Layout(border = '1px solid black'))\n",
    "\n",
    "def fun(obj):\n",
    "    with out:\n",
    "        if obj['new']:  \n",
    "            fits = []\n",
    "\n",
    "            req = [Person1.value, Person2.value, Person3.value, Person4.value]\n",
    "            while (\"\" in req):\n",
    "                req.remove(\"\")\n",
    "\n",
    "\n",
    "            if (len(req)>0):\n",
    "                for file in jpegfiles:\n",
    "                    if all(elem in df2.loc[file].values.tolist() for elem in req):\n",
    "                        fits.append(file)\n",
    "            else:\n",
    "                fits = jpegfiles\n",
    "\n",
    "            im2 = Image.open(random.choice(fits))\n",
    "            im2.show()\n",
    "        else:\n",
    "            out.clear_Output()\n",
    "            print(\"Resetting\")\n",
    "\n",
    "toggle2.observe(fun, 'value')\n",
    "\n",
    "\n",
    "children = [Person1, Person2, Person3, Person4, toggle2]\n",
    "tab = widgets.Tab()\n",
    "tab.children = children\n",
    "tab\n",
    "\n",
    "#accordion = widgets.Accordion(children=[tab, ImageDisplayer], titles=('Hello', 'Text'))"
   ]
  },
  {
   "cell_type": "code",
   "execution_count": 74,
   "metadata": {},
   "outputs": [
    {
     "data": {
      "text/html": [
       "<script>\n",
       "code_show=true; \n",
       "function code_toggle() {\n",
       " if (code_show){\n",
       " $('div.input').hide();\n",
       " } else {\n",
       " $('div.input').show();\n",
       " }\n",
       " code_show = !code_show\n",
       "} \n",
       "$( document ).ready(code_toggle);\n",
       "</script>\n",
       "<form action=\"javascript:code_toggle()\"><input type=\"submit\" value=\"Click here to toggle on/off the raw code.\"></form>"
      ],
      "text/plain": [
       "<IPython.core.display.HTML object>"
      ]
     },
     "execution_count": 74,
     "metadata": {},
     "output_type": "execute_result"
    }
   ],
   "source": [
    "from IPython.display import HTML\n",
    "\n",
    "HTML('''<script>\n",
    "code_show=true; \n",
    "function code_toggle() {\n",
    " if (code_show){\n",
    " $('div.input').hide();\n",
    " } else {\n",
    " $('div.input').show();\n",
    " }\n",
    " code_show = !code_show\n",
    "} \n",
    "$( document ).ready(code_toggle);\n",
    "</script>\n",
    "<form action=\"javascript:code_toggle()\"><input type=\"submit\" value=\"Click here to toggle on/off the raw code.\"></form>''')"
   ]
  },
  {
   "cell_type": "code",
   "execution_count": null,
   "metadata": {},
   "outputs": [],
   "source": [
    "df.to_excel(\"output.xlsx\")"
   ]
  }
 ],
 "metadata": {
  "kernelspec": {
   "display_name": "Python 3",
   "language": "python",
   "name": "python3"
  },
  "language_info": {
   "codemirror_mode": {
    "name": "ipython",
    "version": 3
   },
   "file_extension": ".py",
   "mimetype": "text/x-python",
   "name": "python",
   "nbconvert_exporter": "python",
   "pygments_lexer": "ipython3",
   "version": "3.8.3"
  }
 },
 "nbformat": 4,
 "nbformat_minor": 4
}
